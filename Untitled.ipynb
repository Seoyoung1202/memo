{
 "cells": [
  {
   "cell_type": "code",
   "execution_count": null,
   "metadata": {},
   "outputs": [],
   "source": [
    "#EDA accident dataset\n",
    "#교통사고정보"
   ]
  },
  {
   "cell_type": "code",
   "execution_count": 9,
   "metadata": {},
   "outputs": [
    {
     "name": "stderr",
     "output_type": "stream",
     "text": [
      "Warning message:\n",
      "\"package 'gridExtra' is in use and will not be installed\""
     ]
    }
   ],
   "source": [
    "install.packages(\"gridExtra\")\n",
    "library(ggplot2)\n",
    "library(gridExtra)"
   ]
  },
  {
   "cell_type": "code",
   "execution_count": 6,
   "metadata": {},
   "outputs": [
    {
     "ename": "ERROR",
     "evalue": "Error in ggplot(accident): 객체 'accident'를 찾을 수 없습니다\n",
     "output_type": "error",
     "traceback": [
      "Error in ggplot(accident): 객체 'accident'를 찾을 수 없습니다\nTraceback:\n",
      "1. ggplot(accident)"
     ]
    }
   ],
   "source": [
    "\n",
    "acc_p3<- ggplot(accident)+geom_bar(aes(발생요일), stat=\"count\")+\n",
    "  ggtitle(\"발생요일\") +\n",
    "  xlab(\"발생요일\")\n",
    "acc_p4<- ggplot(accident)+geom_bar(aes(발생시군구), stat=\"count\")+   #흠.....\n",
    "  ggtitle(\"발생시군구\") +\n",
    "  xlab(\"발생시군구\") \n",
    "acc_p5<- ggplot(accident)+geom_bar(aes(사고내용), stat=\"count\")+\n",
    "  ggtitle(\"사고내용\") +\n",
    "  xlab(\"사고내용\")\n",
    "\n",
    "acc_p10<- ggplot(accident)+geom_bar(aes(사고유형), stat=\"count\")+\n",
    "  ggtitle(\"사고유형\") +\n",
    "  xlab(\"사고유형\") + coord_flip()\n",
    "acc_p11<- ggplot(accident)+geom_bar(aes(법규위반), stat=\"count\")+\n",
    "  ggtitle(\"법규위반\") +\n",
    "  xlab(\"법규위반\") + coord_flip()\n",
    "acc_p12<- ggplot(accident)+geom_bar(aes(노면상태), stat=\"count\")+\n",
    "  ggtitle(\"노면상태\") +\n",
    "  xlab(\"노면상태\") + coord_flip()\n",
    "acc_p13<- ggplot(accident)+geom_bar(aes(기상상태), stat=\"count\")+\n",
    "  ggtitle(\"기상상태\") +\n",
    "  xlab(\"기상상태\") + coord_flip()\n",
    "acc_p14<- ggplot(accident)+geom_bar(aes(도로형태), stat=\"count\")+\n",
    "  ggtitle(\"도로형태\") +\n",
    "  xlab(\"도로형태\") + coord_flip()\n",
    "\n",
    "#가해운전자 정보\n",
    "acc_p15<- ggplot(accident)+geom_bar(aes(가해운전자차종), stat=\"count\")+\n",
    "  ggtitle(\"가해운전자 차종\") +\n",
    "  xlab(\"가해운전자 차종\") + coord_flip()\n",
    "acc_p16<- ggplot(accident)+geom_bar(aes(가해운전자성별), stat=\"count\")+\n",
    "  ggtitle(\"가해운전자 성별\") +\n",
    "  xlab(\"가해운전자 성별\")\n",
    "acc_p17<- ggplot(accident)+geom_bar(aes(가해운전자연령), stat=\"count\")+\n",
    "  ggtitle(\"가해운전자 연령\") +\n",
    "  xlab(\"가해운전자 연령\")\n",
    "acc_p18<- ggplot(accident)+geom_bar(aes(가해운전자상해정도), stat=\"count\")+\n",
    "  ggtitle(\"가해운전자 상해정도\") +\n",
    "  xlab(\"가해운전자 상해정도\") + coord_flip()\n",
    "\n",
    "#피해운전자 정보\n",
    "acc_p19<- ggplot(accident)+geom_bar(aes(피해운전자차종), stat=\"count\")+\n",
    "  ggtitle(\"피해운전자 차종\") +\n",
    "  xlab(\"피해운전자 차종\") + coord_flip()\n",
    "acc_p20<- ggplot(accident)+geom_bar(aes(피해운전자성별), stat=\"count\")+   #결측치 존재함\n",
    "  ggtitle(\"피해운전자 성별\") +\n",
    "  xlab(\"피해운전자 성별\")\n",
    "acc_p21<- ggplot(accident)+geom_bar(aes(피해운전자연령), stat=\"count\")+\n",
    "  ggtitle(\"피해운전자 연령\") +\n",
    "  xlab(\"피해운전자 연령\")\n",
    "acc_p22<- ggplot(accident)+geom_bar(aes(피해운전자상해정도), stat=\"count\")+\n",
    "  ggtitle(\"피해운전자 상해정도\") +\n",
    "  xlab(\"피해운전자 상해정도\") + coord_flip()\n"
   ]
  },
  {
   "cell_type": "code",
   "execution_count": null,
   "metadata": {},
   "outputs": [],
   "source": [
    "\n"
   ]
  }
 ],
 "metadata": {
  "kernelspec": {
   "display_name": "R",
   "language": "R",
   "name": "ir"
  },
  "language_info": {
   "codemirror_mode": "r",
   "file_extension": ".r",
   "mimetype": "text/x-r-source",
   "name": "R",
   "pygments_lexer": "r",
   "version": "3.4.3"
  }
 },
 "nbformat": 4,
 "nbformat_minor": 2
}
